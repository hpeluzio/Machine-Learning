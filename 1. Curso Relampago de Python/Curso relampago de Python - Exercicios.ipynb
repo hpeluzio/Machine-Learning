{
 "cells": [
  {
   "cell_type": "markdown",
   "metadata": {},
   "source": [
    "# Curso relâmpago de Python - Exercícios\n",
    "\n",
    "Este é um exercício opcional para testar sua compreensão sobre o Python Basics. Se você achar isso extremamente desafiador, então você provavelmente ainda não está pronto para o resto deste curso e não tem experiência de programação suficiente para continuar. Eu sugiro que você faça outro curso mais orientado para iniciantes, como [Complete Python Bootcamp](https://www.udemy.com/complete-python-bootcamp)"
   ]
  },
  {
   "cell_type": "markdown",
   "metadata": {},
   "source": [
    "## Exercícios\n",
    "\n",
    "Responda as perguntas ou complete as tarefas descritas em negrito abaixo, use o método específico, se aplicável."
   ]
  },
  {
   "cell_type": "markdown",
   "metadata": {},
   "source": [
    "** Quanto é 7 elevado na potência 4?**"
   ]
  },
  {
   "cell_type": "code",
   "execution_count": 1,
   "metadata": {},
   "outputs": [
    {
     "name": "stdout",
     "output_type": "stream",
     "text": [
      "2401\n"
     ]
    }
   ],
   "source": [
    "print (7**4)"
   ]
  },
  {
   "cell_type": "code",
   "execution_count": 2,
   "metadata": {},
   "outputs": [
    {
     "data": {
      "text/plain": [
       "2401"
      ]
     },
     "execution_count": 2,
     "metadata": {},
     "output_type": "execute_result"
    }
   ],
   "source": []
  },
  {
   "cell_type": "markdown",
   "metadata": {},
   "source": [
    "** Quebre a seguinte string em uma lista:**\n",
    "\n",
    "    s = \"Olá, Pai!\""
   ]
  },
  {
   "cell_type": "code",
   "execution_count": 3,
   "metadata": {},
   "outputs": [
    {
     "data": {
      "text/plain": [
       "['Olá,', 'Pai!']"
      ]
     },
     "execution_count": 3,
     "metadata": {},
     "output_type": "execute_result"
    }
   ],
   "source": [
    "s = \"Olá, Pai!\"\n",
    "s.split()"
   ]
  },
  {
   "cell_type": "code",
   "execution_count": 1,
   "metadata": {
    "collapsed": true
   },
   "outputs": [],
   "source": []
  },
  {
   "cell_type": "code",
   "execution_count": 2,
   "metadata": {
    "scrolled": true
   },
   "outputs": [
    {
     "data": {
      "text/plain": [
       "['Olá,', 'Pai!']"
      ]
     },
     "execution_count": 2,
     "metadata": {},
     "output_type": "execute_result"
    }
   ],
   "source": []
  },
  {
   "cell_type": "markdown",
   "metadata": {},
   "source": [
    "** Dada as variáveis:**\n",
    "\n",
    "    Planeta = \"Terra\"\n",
    "    Diametro = 12742\n",
    "\n",
    "** Use .format() para printar a seguinte frase: **\n",
    "\n",
    "    O diâmetro da terra é de 12742 kilômetros."
   ]
  },
  {
   "cell_type": "code",
   "execution_count": 5,
   "metadata": {},
   "outputs": [
    {
     "data": {
      "text/plain": [
       "'O diâmetro da Terra é 12742 kilômetros.'"
      ]
     },
     "execution_count": 5,
     "metadata": {},
     "output_type": "execute_result"
    }
   ],
   "source": [
    "Planeta = \"Terra\"\n",
    "Diametro = 12742\n",
    "\"O diâmetro da {} é {} kilômetros.\".format(Planeta, Diametro)"
   ]
  },
  {
   "cell_type": "code",
   "execution_count": 5,
   "metadata": {
    "collapsed": true
   },
   "outputs": [],
   "source": [
    "planeta = \"Terra\"\n",
    "diametro = 12742"
   ]
  },
  {
   "cell_type": "code",
   "execution_count": 1,
   "metadata": {},
   "outputs": [
    {
     "name": "stdout",
     "output_type": "stream",
     "text": [
      "O diâmetro da terra é de 12742 kilômetros.\n"
     ]
    }
   ],
   "source": []
  },
  {
   "cell_type": "code",
   "execution_count": null,
   "metadata": {
    "collapsed": true
   },
   "outputs": [],
   "source": []
  },
  {
   "cell_type": "markdown",
   "metadata": {},
   "source": [
    "** Dada a lista abaixo, use indexação para obter apenas a string \"ola\". **"
   ]
  },
  {
   "cell_type": "code",
   "execution_count": 6,
   "metadata": {},
   "outputs": [],
   "source": [
    "lst = [1,2,[3,4],[5,[100,200,['olá']],23,11],1,7]"
   ]
  },
  {
   "cell_type": "code",
   "execution_count": 18,
   "metadata": {},
   "outputs": [
    {
     "name": "stdout",
     "output_type": "stream",
     "text": [
      "olá\n"
     ]
    }
   ],
   "source": [
    "print(lst[3][1][2][0])"
   ]
  },
  {
   "cell_type": "code",
   "execution_count": 3,
   "metadata": {},
   "outputs": [
    {
     "name": "stdout",
     "output_type": "stream",
     "text": [
      "olá\n"
     ]
    }
   ],
   "source": []
  },
  {
   "cell_type": "code",
   "execution_count": null,
   "metadata": {
    "collapsed": true
   },
   "outputs": [],
   "source": []
  },
  {
   "cell_type": "markdown",
   "metadata": {},
   "source": [
    "** Dado o seguinte dicionário aninhado, extraia a palavra \"hello\" **"
   ]
  },
  {
   "cell_type": "code",
   "execution_count": 19,
   "metadata": {},
   "outputs": [],
   "source": [
    "d = {'k1':[1,2,3,{'café':['banana','mulher','colher',{'alvo':[1,2,3,'olá']}]}]}"
   ]
  },
  {
   "cell_type": "code",
   "execution_count": 48,
   "metadata": {},
   "outputs": [
    {
     "name": "stdout",
     "output_type": "stream",
     "text": [
      "{'k1': [1, 2, 3, {'café': ['banana', 'mulher', 'colher', {'alvo': [1, 2, 3, 'olá']}]}]}\n",
      "olá\n",
      "{'k1': [1, 2, 3, {'café': ['banana', 'mulher', 'colher', {'alvo': [1, 2, 3]}]}]}\n"
     ]
    }
   ],
   "source": [
    "d = {'k1':[1,2,3,{'café':['banana','mulher','colher',{'alvo':[1,2,3,'olá']}]}]}\n",
    "print(d)\n",
    "print(d['k1'][3]['café'][3]['alvo'][3])\n",
    "(d['k1'][3]['café'][3]['alvo']).pop()\n",
    "print(d)"
   ]
  },
  {
   "cell_type": "code",
   "execution_count": 42,
   "metadata": {},
   "outputs": [
    {
     "data": {
      "text/plain": [
       "[1, 2, 3, 4, 5, 6]"
      ]
     },
     "execution_count": 42,
     "metadata": {},
     "output_type": "execute_result"
    }
   ],
   "source": []
  },
  {
   "cell_type": "code",
   "execution_count": 45,
   "metadata": {},
   "outputs": [
    {
     "data": {
      "text/plain": [
       "[1, 2, 3, 4, 5]"
      ]
     },
     "execution_count": 45,
     "metadata": {},
     "output_type": "execute_result"
    }
   ],
   "source": [
    "lista = [1,2,3,4,5,6]\n",
    "lista.pop()\n",
    "lista"
   ]
  },
  {
   "cell_type": "code",
   "execution_count": null,
   "metadata": {},
   "outputs": [],
   "source": []
  },
  {
   "cell_type": "markdown",
   "metadata": {},
   "source": [
    "** Qual a principal diferença entre um dicionário e uma tupla? **"
   ]
  },
  {
   "cell_type": "code",
   "execution_count": 3,
   "metadata": {
    "collapsed": true
   },
   "outputs": [],
   "source": []
  },
  {
   "cell_type": "markdown",
   "metadata": {},
   "source": [
    "** Construa uma função que retire o domínio dado um e-mail no seguinte formato: **\n",
    "\n",
    "    user@domain.com\n",
    "    \n",
    "**Por exemplo, passando como parâmetro \"user@domain.com\" retornaria: domain.com**"
   ]
  },
  {
   "cell_type": "code",
   "execution_count": 54,
   "metadata": {},
   "outputs": [
    {
     "name": "stdout",
     "output_type": "stream",
     "text": [
      "dominio.com\n"
     ]
    }
   ],
   "source": [
    "def retiraDominio(dominio):\n",
    "    dominio = dominio.split(\"@\")\n",
    "    print(dominio[1])\n",
    "\n",
    "retiraDominio('teste@dominio.com')"
   ]
  },
  {
   "cell_type": "code",
   "execution_count": 24,
   "metadata": {
    "collapsed": true
   },
   "outputs": [],
   "source": []
  },
  {
   "cell_type": "code",
   "execution_count": 26,
   "metadata": {},
   "outputs": [
    {
     "data": {
      "text/plain": [
       "'domain.com'"
      ]
     },
     "execution_count": 26,
     "metadata": {},
     "output_type": "execute_result"
    }
   ],
   "source": [
    "obterDominio('user@domain.com')"
   ]
  },
  {
   "cell_type": "markdown",
   "metadata": {},
   "source": [
    "** Crie uma função básica que retorna True se a palavra 'dog' estiver contida na string de entrada. Não se preocupe com os casos de extremos, como uma pontuação que está sendo anexada à palavra cão, mas que seja senível à caixa. **"
   ]
  },
  {
   "cell_type": "code",
   "execution_count": 70,
   "metadata": {},
   "outputs": [
    {
     "data": {
      "text/plain": [
       "False"
      ]
     },
     "execution_count": 70,
     "metadata": {},
     "output_type": "execute_result"
    }
   ],
   "source": [
    "def encontreCachorro(str):\n",
    "    if 'cachorro' in str:\n",
    "        return True\n",
    "    else:\n",
    "        return False\n",
    "    \n",
    "        \n",
    "    \n",
    "encontreCachorro('Existe um cachorro aí?')"
   ]
  },
  {
   "cell_type": "code",
   "execution_count": 27,
   "metadata": {
    "collapsed": true
   },
   "outputs": [],
   "source": []
  },
  {
   "cell_type": "code",
   "execution_count": 28,
   "metadata": {},
   "outputs": [
    {
     "data": {
      "text/plain": [
       "True"
      ]
     },
     "execution_count": 28,
     "metadata": {},
     "output_type": "execute_result"
    }
   ],
   "source": [
    "encontreCachorro('Existe um cachorro aí?')"
   ]
  },
  {
   "cell_type": "markdown",
   "metadata": {},
   "source": [
    "** Crie uma função que conta o número de vezes que a palavra \"dog\" ocorre em uma string. Novamente ignore os casos extremos. **"
   ]
  },
  {
   "cell_type": "code",
   "execution_count": 71,
   "metadata": {},
   "outputs": [
    {
     "data": {
      "text/plain": [
       "2"
      ]
     },
     "execution_count": 71,
     "metadata": {},
     "output_type": "execute_result"
    }
   ],
   "source": [
    "def contaCachorro(str):\n",
    "    return str.count('cachorro')\n",
    "\n",
    "contaCachorro('Esse cachorro é mais rápido que o outro cachorro.')"
   ]
  },
  {
   "cell_type": "code",
   "execution_count": 30,
   "metadata": {
    "collapsed": true
   },
   "outputs": [],
   "source": []
  },
  {
   "cell_type": "code",
   "execution_count": 31,
   "metadata": {},
   "outputs": [
    {
     "data": {
      "text/plain": [
       "2"
      ]
     },
     "execution_count": 31,
     "metadata": {},
     "output_type": "execute_result"
    }
   ],
   "source": [
    "contaCachorro('Esse cachorro é mais rápido que o outro cachorro.')"
   ]
  },
  {
   "cell_type": "markdown",
   "metadata": {},
   "source": [
    "** Use expressões lambda e a função filter () para filtrar as palavras de uma lista que não começa com a letra 's'. Por exemplo: **\n",
    "\n",
    "    seq = ['sopa','cachorro','salada','gato','ótimo']\n",
    "\n",
    "** Deveria ser filtrado para:**\n",
    "\n",
    "    ['sopa','salada']"
   ]
  },
  {
   "cell_type": "code",
   "execution_count": 90,
   "metadata": {},
   "outputs": [
    {
     "data": {
      "text/plain": [
       "['sopa', 'salada']"
      ]
     },
     "execution_count": 90,
     "metadata": {},
     "output_type": "execute_result"
    }
   ],
   "source": [
    "seq = ['sopa','cachorro','salada','gato','ótimo']\n",
    "#str = 'eita'\n",
    "#print(str[0])\n",
    "\n",
    "list(filter(lambda item: item.startswith('s') , seq))\n"
   ]
  },
  {
   "cell_type": "code",
   "execution_count": null,
   "metadata": {},
   "outputs": [],
   "source": []
  },
  {
   "cell_type": "code",
   "execution_count": 7,
   "metadata": {
    "collapsed": true
   },
   "outputs": [],
   "source": [
    "seq = ['sopa','cachorro','salada','gato','ótimo']"
   ]
  },
  {
   "cell_type": "code",
   "execution_count": 8,
   "metadata": {},
   "outputs": [
    {
     "data": {
      "text/plain": [
       "['sopa', 'salada']"
      ]
     },
     "execution_count": 8,
     "metadata": {},
     "output_type": "execute_result"
    }
   ],
   "source": []
  },
  {
   "cell_type": "markdown",
   "metadata": {},
   "source": [
    "### Problema final\n",
    "** Você está dirigindo um pouco rápido demais, e um policial para você. Escreva uma função para retornar um dos 3 resultados possíveis: \"Sem multa\", \"Pequena multa\" ou \"Multa Grande\".\n",
    "   Se a sua velocidade for igual ou inferior a 60, o resultado é \"Sem multa\". Se a velocidade for entre 61 e 80 inclusive, o resultado é \"Multa Pequena\". Se a velocidade é de 81 ou mais, o resultado é \"Multa Grande\". A menos que seja seu aniversário (codificado como um valor booleano nos parâmetros da função) - em seu aniversário, sua velocidade pode ser 5 maior em todos os casos. **"
   ]
  },
  {
   "cell_type": "code",
   "execution_count": 98,
   "metadata": {},
   "outputs": [
    {
     "name": "stdout",
     "output_type": "stream",
     "text": [
      "Multa pequena\n"
     ]
    }
   ],
   "source": [
    "def capturar_velocidade(speed, is_birthday):\n",
    "    if is_birthday:\n",
    "        print('Sem multa')\n",
    "    else:\n",
    "        if speed <= 60:\n",
    "            print('Sem multa')\n",
    "        elif speed > 60 and speed <= 80:\n",
    "            print('Multa pequena')\n",
    "        else:\n",
    "            print('Multa grande')\n",
    "    \n",
    "\n",
    "capturar_velocidade(65, False)"
   ]
  },
  {
   "cell_type": "code",
   "execution_count": null,
   "metadata": {},
   "outputs": [],
   "source": []
  },
  {
   "cell_type": "code",
   "execution_count": 10,
   "metadata": {
    "collapsed": true
   },
   "outputs": [],
   "source": [
    "def capturar_velocidade(speed, is_birthday):\n",
    "    pass"
   ]
  },
  {
   "cell_type": "markdown",
   "metadata": {},
   "source": []
  },
  {
   "cell_type": "code",
   "execution_count": 11,
   "metadata": {},
   "outputs": [
    {
     "name": "stdout",
     "output_type": "stream",
     "text": [
      "Multa Pequena\n"
     ]
    }
   ],
   "source": [
    "capturar_velocidade(65,False)"
   ]
  },
  {
   "cell_type": "code",
   "execution_count": 12,
   "metadata": {},
   "outputs": [
    {
     "name": "stdout",
     "output_type": "stream",
     "text": [
      "Multa Grande\n"
     ]
    }
   ],
   "source": [
    "capturar_velocidade(81,False)"
   ]
  }
 ],
 "metadata": {
  "kernelspec": {
   "display_name": "Python 3",
   "language": "python",
   "name": "python3"
  },
  "language_info": {
   "codemirror_mode": {
    "name": "ipython",
    "version": 3
   },
   "file_extension": ".py",
   "mimetype": "text/x-python",
   "name": "python",
   "nbconvert_exporter": "python",
   "pygments_lexer": "ipython3",
   "version": "3.7.1"
  }
 },
 "nbformat": 4,
 "nbformat_minor": 1
}
